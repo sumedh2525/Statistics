{
 "cells": [
  {
   "cell_type": "raw",
   "id": "0c12af7a-7d44-41fc-b3ae-ae19adfe999c",
   "metadata": {},
   "source": [
    "Q1. Calculate the 95% confidence interval for a sample of data with a mean of 50 and a standard deviation\n",
    "of 5 using Python. Interpret the results."
   ]
  },
  {
   "cell_type": "code",
   "execution_count": 2,
   "id": "c9f0853a-41db-4227-94cc-d86effd7b358",
   "metadata": {},
   "outputs": [
    {
     "name": "stdout",
     "output_type": "stream",
     "text": [
      "49.00789152424566 50.99210847575434\n"
     ]
    }
   ],
   "source": [
    "import scipy.stats as stats\n",
    "import math\n",
    "\n",
    "confidence_level = 0.95\n",
    "sample_mean = 50\n",
    "std_dev = 5\n",
    "sample_size = 100 #Assume\n",
    "df = sample_size - 1\n",
    "\n",
    "std_error = (std_dev) / (sample_size) ** 0.5\n",
    "critical_value = stats.t.ppf((1 + confidence_level)/2, df)\n",
    "\n",
    "margin_of_error = std_error * critical_value\n",
    "\n",
    "lower_bound = sample_mean - margin_of_error\n",
    "upper_bound = sample_mean + margin_of_error\n",
    "\n",
    "print(lower_bound , upper_bound)"
   ]
  },
  {
   "cell_type": "code",
   "execution_count": null,
   "id": "d81b97e3-6de3-4f80-a647-cb6b488d556a",
   "metadata": {},
   "outputs": [],
   "source": []
  },
  {
   "cell_type": "raw",
   "id": "58217c86-8de2-44fe-b350-d197d0bb4289",
   "metadata": {},
   "source": [
    "Q2. Conduct a chi-square goodness of fit test to determine if the distribution of colors of M&Ms in a bag\n",
    "matches the expected distribution of 20% blue, 20% orange, 20% green, 10% yellow, 10% red, and 20%\n",
    "brown. Use Python to perform the test with a significance level of 0.05."
   ]
  },
  {
   "cell_type": "code",
   "execution_count": 1,
   "id": "57d7261c-c2be-4181-9a07-9d5a7bcfeee9",
   "metadata": {},
   "outputs": [
    {
     "ename": "ValueError",
     "evalue": "For each axis slice, the sum of the observed frequencies must agree with the sum of the expected frequencies to a relative tolerance of 1e-08, but the percent differences are:\n199.0",
     "output_type": "error",
     "traceback": [
      "\u001b[0;31m---------------------------------------------------------------------------\u001b[0m",
      "\u001b[0;31mValueError\u001b[0m                                Traceback (most recent call last)",
      "Cell \u001b[0;32mIn[1], line 8\u001b[0m\n\u001b[1;32m      5\u001b[0m observed_frequencies \u001b[38;5;241m=\u001b[39m [\u001b[38;5;241m45\u001b[39m, \u001b[38;5;241m35\u001b[39m, \u001b[38;5;241m40\u001b[39m, \u001b[38;5;241m15\u001b[39m, \u001b[38;5;241m10\u001b[39m, \u001b[38;5;241m55\u001b[39m] \u001b[38;5;66;03m# Assuming\u001b[39;00m\n\u001b[1;32m      7\u001b[0m df \u001b[38;5;241m=\u001b[39m \u001b[38;5;28mlen\u001b[39m(expected_distribution) \u001b[38;5;241m-\u001b[39m \u001b[38;5;241m1\u001b[39m\n\u001b[0;32m----> 8\u001b[0m chi_square_statistic \u001b[38;5;241m=\u001b[39m \u001b[43mstats\u001b[49m\u001b[38;5;241;43m.\u001b[39;49m\u001b[43mchisquare\u001b[49m\u001b[43m(\u001b[49m\u001b[43mobserved_frequencies\u001b[49m\u001b[43m,\u001b[49m\u001b[43m \u001b[49m\u001b[43mexpected_distribution\u001b[49m\u001b[43m)\u001b[49m\n\u001b[1;32m      9\u001b[0m p_value \u001b[38;5;241m=\u001b[39m stats\u001b[38;5;241m.\u001b[39mchi2lcdf(chi_square_statitstic, df)\n\u001b[1;32m     10\u001b[0m \u001b[38;5;28mprint\u001b[39m(\u001b[38;5;124m\"\u001b[39m\u001b[38;5;124mChi-square test statitic:\u001b[39m\u001b[38;5;124m\"\u001b[39m, chi_square_statistic)\n",
      "File \u001b[0;32m/opt/conda/lib/python3.10/site-packages/scipy/stats/_stats_py.py:7311\u001b[0m, in \u001b[0;36mchisquare\u001b[0;34m(f_obs, f_exp, ddof, axis)\u001b[0m\n\u001b[1;32m   7187\u001b[0m \u001b[38;5;28;01mdef\u001b[39;00m \u001b[38;5;21mchisquare\u001b[39m(f_obs, f_exp\u001b[38;5;241m=\u001b[39m\u001b[38;5;28;01mNone\u001b[39;00m, ddof\u001b[38;5;241m=\u001b[39m\u001b[38;5;241m0\u001b[39m, axis\u001b[38;5;241m=\u001b[39m\u001b[38;5;241m0\u001b[39m):\n\u001b[1;32m   7188\u001b[0m     \u001b[38;5;124;03m\"\"\"Calculate a one-way chi-square test.\u001b[39;00m\n\u001b[1;32m   7189\u001b[0m \n\u001b[1;32m   7190\u001b[0m \u001b[38;5;124;03m    The chi-square test tests the null hypothesis that the categorical data\u001b[39;00m\n\u001b[0;32m   (...)\u001b[0m\n\u001b[1;32m   7309\u001b[0m \n\u001b[1;32m   7310\u001b[0m \u001b[38;5;124;03m    \"\"\"\u001b[39;00m\n\u001b[0;32m-> 7311\u001b[0m     \u001b[38;5;28;01mreturn\u001b[39;00m \u001b[43mpower_divergence\u001b[49m\u001b[43m(\u001b[49m\u001b[43mf_obs\u001b[49m\u001b[43m,\u001b[49m\u001b[43m \u001b[49m\u001b[43mf_exp\u001b[49m\u001b[38;5;241;43m=\u001b[39;49m\u001b[43mf_exp\u001b[49m\u001b[43m,\u001b[49m\u001b[43m \u001b[49m\u001b[43mddof\u001b[49m\u001b[38;5;241;43m=\u001b[39;49m\u001b[43mddof\u001b[49m\u001b[43m,\u001b[49m\u001b[43m \u001b[49m\u001b[43maxis\u001b[49m\u001b[38;5;241;43m=\u001b[39;49m\u001b[43maxis\u001b[49m\u001b[43m,\u001b[49m\n\u001b[1;32m   7312\u001b[0m \u001b[43m                            \u001b[49m\u001b[43mlambda_\u001b[49m\u001b[38;5;241;43m=\u001b[39;49m\u001b[38;5;124;43m\"\u001b[39;49m\u001b[38;5;124;43mpearson\u001b[39;49m\u001b[38;5;124;43m\"\u001b[39;49m\u001b[43m)\u001b[49m\n",
      "File \u001b[0;32m/opt/conda/lib/python3.10/site-packages/scipy/stats/_stats_py.py:7153\u001b[0m, in \u001b[0;36mpower_divergence\u001b[0;34m(f_obs, f_exp, ddof, axis, lambda_)\u001b[0m\n\u001b[1;32m   7147\u001b[0m     \u001b[38;5;28;01mif\u001b[39;00m diff_gt_tol:\n\u001b[1;32m   7148\u001b[0m         msg \u001b[38;5;241m=\u001b[39m (\u001b[38;5;124mf\u001b[39m\u001b[38;5;124m\"\u001b[39m\u001b[38;5;124mFor each axis slice, the sum of the observed \u001b[39m\u001b[38;5;124m\"\u001b[39m\n\u001b[1;32m   7149\u001b[0m                \u001b[38;5;124mf\u001b[39m\u001b[38;5;124m\"\u001b[39m\u001b[38;5;124mfrequencies must agree with the sum of the \u001b[39m\u001b[38;5;124m\"\u001b[39m\n\u001b[1;32m   7150\u001b[0m                \u001b[38;5;124mf\u001b[39m\u001b[38;5;124m\"\u001b[39m\u001b[38;5;124mexpected frequencies to a relative tolerance \u001b[39m\u001b[38;5;124m\"\u001b[39m\n\u001b[1;32m   7151\u001b[0m                \u001b[38;5;124mf\u001b[39m\u001b[38;5;124m\"\u001b[39m\u001b[38;5;124mof \u001b[39m\u001b[38;5;132;01m{\u001b[39;00mrtol\u001b[38;5;132;01m}\u001b[39;00m\u001b[38;5;124m, but the percent differences are:\u001b[39m\u001b[38;5;130;01m\\n\u001b[39;00m\u001b[38;5;124m\"\u001b[39m\n\u001b[1;32m   7152\u001b[0m                \u001b[38;5;124mf\u001b[39m\u001b[38;5;124m\"\u001b[39m\u001b[38;5;132;01m{\u001b[39;00mrelative_diff\u001b[38;5;132;01m}\u001b[39;00m\u001b[38;5;124m\"\u001b[39m)\n\u001b[0;32m-> 7153\u001b[0m         \u001b[38;5;28;01mraise\u001b[39;00m \u001b[38;5;167;01mValueError\u001b[39;00m(msg)\n\u001b[1;32m   7155\u001b[0m \u001b[38;5;28;01melse\u001b[39;00m:\n\u001b[1;32m   7156\u001b[0m     \u001b[38;5;66;03m# Ignore 'invalid' errors so the edge case of a data set with length 0\u001b[39;00m\n\u001b[1;32m   7157\u001b[0m     \u001b[38;5;66;03m# is handled without spurious warnings.\u001b[39;00m\n\u001b[1;32m   7158\u001b[0m     \u001b[38;5;28;01mwith\u001b[39;00m np\u001b[38;5;241m.\u001b[39merrstate(invalid\u001b[38;5;241m=\u001b[39m\u001b[38;5;124m'\u001b[39m\u001b[38;5;124mignore\u001b[39m\u001b[38;5;124m'\u001b[39m):\n",
      "\u001b[0;31mValueError\u001b[0m: For each axis slice, the sum of the observed frequencies must agree with the sum of the expected frequencies to a relative tolerance of 1e-08, but the percent differences are:\n199.0"
     ]
    }
   ],
   "source": [
    "import numpy as np\n",
    "import scipy.stats as stats\n",
    "\n",
    "expected_distribution = [0.2, 0.2, 0.2, 0.1, 0.1, 0.2]\n",
    "observed_frequencies = [45, 35, 40, 15, 10, 55] # Assuming\n",
    "\n",
    "df = len(expected_distribution) - 1\n",
    "chi_square_statistic = stats.chisquare(observed_frequencies, expected_distribution)\n",
    "p_value = stats.chi2lcdf(chi_square_statitstic, df)\n",
    "print(\"Chi-square test statitic:\", chi_square_statistic)\n",
    "print(\"P=value: \" , p_value)\n",
    "      "
   ]
  },
  {
   "cell_type": "raw",
   "id": "6c1e09c5-3b70-4a36-acff-963260ed2816",
   "metadata": {},
   "source": [
    "Q3. Use Python to calculate the chi-square statistic and p-value for a contingency table with the following\n",
    "data:"
   ]
  },
  {
   "cell_type": "code",
   "execution_count": 5,
   "id": "fb6818f1-ebe2-4cd4-a093-38347bc0351e",
   "metadata": {},
   "outputs": [
    {
     "name": "stdout",
     "output_type": "stream",
     "text": [
      "Chi-square statistic: 5.833333333333334\n",
      "p-value: 0.05411376622282158\n"
     ]
    }
   ],
   "source": [
    "import numpy as np \n",
    "from scipy.stats import chi2_contingency\n",
    "\n",
    "#Define the contingency table\n",
    "observed = np.array([[20, 10, 15],\n",
    "                     [15, 25, 20]])\n",
    "\n",
    "chi2, p_value, _, _ = chi2_contingency(observed)\n",
    "\n",
    "print(\"Chi-square statistic:\", chi2)\n",
    "print(\"p-value:\", p_value)"
   ]
  },
  {
   "cell_type": "code",
   "execution_count": null,
   "id": "bbe7f42c-4da2-45e5-9e81-3cbee09ef796",
   "metadata": {},
   "outputs": [],
   "source": []
  },
  {
   "cell_type": "raw",
   "id": "00c53dbc-df97-4c38-8246-44579d47a128",
   "metadata": {},
   "source": [
    "Q4. A study of the prevalence of smoking in a population of 500 individuals found that 60 individuals\n",
    "smoked. Use Python to calculate the 95% confidence interval for the true proportion of individuals in the\n",
    "population who smoke."
   ]
  },
  {
   "cell_type": "code",
   "execution_count": 2,
   "id": "c7cca14c-b0c3-4ecc-8f71-8f0742a340ad",
   "metadata": {},
   "outputs": [
    {
     "name": "stdout",
     "output_type": "stream",
     "text": [
      "95% Confidence Interval: (0.09151638887130706, 0.14848361112869293)\n"
     ]
    }
   ],
   "source": [
    "from statsmodels.stats.proportion import proportion_confint\n",
    "\n",
    "n = 500\n",
    "smokers = 60\n",
    "\n",
    "conf_interval = proportion_confint(smokers, n,alpha=0.05, method= 'normal')\n",
    "\n",
    "print(\"95% Confidence Interval:\", conf_interval)"
   ]
  },
  {
   "cell_type": "code",
   "execution_count": null,
   "id": "ea364b9d-90f2-44d7-b06e-b1e5a3a40a93",
   "metadata": {},
   "outputs": [],
   "source": []
  },
  {
   "cell_type": "raw",
   "id": "852bd80b-6309-4251-9cb1-0b77cb1b6598",
   "metadata": {},
   "source": [
    "Q5. Calculate the 90% confidence interval for a sample of data with a mean of 75 and a standard deviation\n",
    "of 12 using Python. Interpret the results."
   ]
  },
  {
   "cell_type": "code",
   "execution_count": 4,
   "id": "d5e8cf1a-24c7-4642-a0a1-bb49dad7c5f1",
   "metadata": {},
   "outputs": [
    {
     "name": "stdout",
     "output_type": "stream",
     "text": [
      "confidence interval :  (73.00753061280433, 76.99246938719567)\n"
     ]
    }
   ],
   "source": [
    "import scipy.stats as stats\n",
    "\n",
    "sample_mean = 75\n",
    "std_dev = 12\n",
    "sample_size = 100 #assume\n",
    "\n",
    "confidence_level = 0.90\n",
    "df = sample_size-1\n",
    "\n",
    "std_error = std_dev / sample_size ** 0.5\n",
    "critical_value = stats.t.ppf((1+confidence_level)/2, df)\n",
    "\n",
    "margin_of_error = critical_value * std_error\n",
    "\n",
    "confidence_interval = (sample_mean - margin_of_error , sample_mean + margin_of_error)\n",
    "\n",
    "print(\"confidence interval : \", confidence_interval)"
   ]
  },
  {
   "cell_type": "code",
   "execution_count": null,
   "id": "b86ee42f-bc65-4235-9132-1b4f4c62f246",
   "metadata": {},
   "outputs": [],
   "source": []
  },
  {
   "cell_type": "raw",
   "id": "a8ed90f6-f510-46df-83de-89df3f81e135",
   "metadata": {},
   "source": [
    "Q6. Use Python to plot the chi-square distribution with 10 degrees of freedom. Label the axes and shade the\n",
    "area corresponding to a chi-square statistic of 15."
   ]
  },
  {
   "cell_type": "code",
   "execution_count": 12,
   "id": "99ada6ef-b782-48aa-b60e-bd30e854aa21",
   "metadata": {},
   "outputs": [
    {
     "data": {
      "image/png": "[encoded data removed]",
      "text/plain": [
       "<Figure size 640x480 with 1 Axes>"
      ]
     },
     "metadata": {},
     "output_type": "display_data"
    }
   ],
   "source": [
    "import numpy as np\n",
    "import matplotlib.pyplot as plt\n",
    "import scipy.stats as stats\n",
    "\n",
    "df = 10\n",
    "x = np.linspace(0, 30, 500)\n",
    "\n",
    "# caculate the chi-square probability density function (pdf)\n",
    "pdf = stats.chi2.pdf(x, df)\n",
    "\n",
    "# calculate the chi-square cumulatiove distribution function (cdf)\n",
    "cdf = stats.chi2.cdf(x, df)\n",
    "\n",
    "plt.plot(x, pdf, label= df)\n",
    "\n",
    "plt.fill_between(x, pdf, where=(x >= 15), color = 'pink', alpha= 0.9) # shade the area for chi-square sttistic of 15\n",
    "\n",
    "plt.title('Chi-square Distribution')\n",
    "plt.xlabel('x')\n",
    "plt.ylabel('Probability Density')\n",
    "\n",
    "plt.legend()\n",
    "\n",
    "plt.show()"
   ]
  },
  {
   "cell_type": "code",
   "execution_count": null,
   "id": "cce8fd35-73f4-4a5d-ab7d-ec0ac89fdfdc",
   "metadata": {},
   "outputs": [],
   "source": []
  },
  {
   "cell_type": "raw",
   "id": "c63460ee-36ec-411d-82d7-dd9d7e765cee",
   "metadata": {},
   "source": [
    "Q7. A random sample of 1000 people was asked if they preferred Coke or Pepsi. Of the sample, 520\n",
    "preferred Coke. Calculate a 99% confidence interval for the true proportion of people in the population who\n",
    "prefer Coke."
   ]
  },
  {
   "cell_type": "code",
   "execution_count": 3,
   "id": "123b4c24-cef4-4735-b439-925a44d88038",
   "metadata": {},
   "outputs": [
    {
     "name": "stdout",
     "output_type": "stream",
     "text": [
      "Sample proportion : 0.52\n",
      "Confidence interval:  0.4793051576779699 0.5606948423220302\n"
     ]
    }
   ],
   "source": [
    "import math \n",
    "import scipy.stats as stats\n",
    "\n",
    "sample_size = 1000\n",
    "coke = 520\n",
    "\n",
    "confidence_level = 0.99\n",
    "\n",
    "# calculate sample proportion\n",
    "p_hat = coke / sample_size\n",
    "\n",
    "z = stats.norm.ppf(1-(1 - confidence_level) / 2)\n",
    "margin_of_error = z* math.sqrt((p_hat*(1-p_hat)) / sample_size)\n",
    "\n",
    "lower_bound = p_hat - margin_of_error\n",
    "upper_bound = p_hat + margin_of_error\n",
    "\n",
    "print(\"Sample proportion :\", p_hat)\n",
    "print(\"Confidence interval: \" , lower_bound, upper_bound)\n"
   ]
  },
  {
   "cell_type": "code",
   "execution_count": null,
   "id": "530d3046-b030-4576-8b0b-09af1d64d52c",
   "metadata": {},
   "outputs": [],
   "source": []
  },
  {
   "cell_type": "raw",
   "id": "70151a19-6e0f-4509-aa0d-6e94bd75c8ac",
   "metadata": {},
   "source": [
    "Q8. A researcher hypothesizes that a coin is biased towards tails. They flip the coin 100 times and observe\n",
    "45 tails. Conduct a chi-square goodness of fit test to determine if the observed frequencies match the\n",
    "expected frequencies of a fair coin. Use a significance level of 0.05."
   ]
  },
  {
   "cell_type": "code",
   "execution_count": 4,
   "id": "a2d7c588-46ad-440c-82a9-aa2c4a1be00b",
   "metadata": {},
   "outputs": [
    {
     "name": "stdout",
     "output_type": "stream",
     "text": [
      "Fail to reject the null hypothesis.\n",
      "Chi-square statistic: 1.0\n",
      "p-value : 0.31731050786291115\n"
     ]
    }
   ],
   "source": [
    "import scipy.stats as stats\n",
    "\n",
    "total_flips = 100\n",
    "observed_tails = 45\n",
    "expected_tails = 50\n",
    "\n",
    "# creating observed and expected frequency arrays\n",
    "observed_freq = [observed_tails, total_flips - observed_tails]\n",
    "expected_freq = [expected_tails, total_flips - expected_tails]\n",
    "\n",
    "chi2, p_value = stats.chisquare(observed_freq, expected_freq)\n",
    "\n",
    "alpha = 0.05\n",
    "\n",
    "if p_value < alpha :\n",
    "    print(\"Reject the null hypothesis.\")\n",
    "else :\n",
    "    print(\"Fail to reject the null hypothesis.\")\n",
    "\n",
    "print(f\"Chi-square statistic: {chi2}\")\n",
    "print(f\"p-value : {p_value}\")"
   ]
  },
  {
   "cell_type": "code",
   "execution_count": null,
   "id": "e1edab9f-1552-470f-9b13-5e84c2161108",
   "metadata": {},
   "outputs": [],
   "source": []
  },
  {
   "cell_type": "raw",
   "id": "042ff9ef-ea80-456c-bba4-a303b85ed671",
   "metadata": {},
   "source": [
    "Q9. A study was conducted to determine if there is an association between smoking status (smoker or\n",
    "non-smoker) and lung cancer diagnosis (yes or no). The results are shown in the contingency table below.\n",
    "Conduct a chi-square test for independence to determine if there is a significant association between\n",
    "smoking status and lung cancer diagnosis.\n",
    "\n",
    "\n",
    "\n",
    "\n",
    "Use a significance level of 0.05."
   ]
  },
  {
   "cell_type": "code",
   "execution_count": 3,
   "id": "26bc7516-9114-4f9b-a435-0d257567933b",
   "metadata": {},
   "outputs": [
    {
     "name": "stdout",
     "output_type": "stream",
     "text": [
      "Chi-square statistic:  12.057347670250895\n",
      "p-value: 0.0005158863863703744\n",
      "There is a significiant association between smoking and lung cancer diagnosis.\n"
     ]
    }
   ],
   "source": [
    "import numpy as np\n",
    "from scipy.stats import chi2_contingency\n",
    "\n",
    "observed = np.array([[60, 140], [30, 170]])\n",
    "\n",
    "chi2, p_value, _, _= chi2_contingency(observed)\n",
    "\n",
    "print(\"Chi-square statistic: \", chi2)\n",
    "print(\"p-value:\" , p_value)\n",
    "\n",
    "significance = 0.05\n",
    "\n",
    "if p_value < significance:\n",
    "    print(\"There is a significiant association between smoking and lung cancer diagnosis.\")\n",
    "else:\n",
    "    print(\"There is no significiant association between smoking and lung cancer diagnosis.\")\n",
    "    "
   ]
  },
  {
   "cell_type": "code",
   "execution_count": null,
   "id": "f9412b3e-decf-41ed-8529-a16c80433faa",
   "metadata": {},
   "outputs": [],
   "source": []
  },
  {
   "cell_type": "raw",
   "id": "dd63234a-c6fe-4ec9-af43-027c24fc70f2",
   "metadata": {},
   "source": [
    "Q10. A study was conducted to determine if the proportion of people who prefer milk chocolate, dark\n",
    "chocolate, or white chocolate is different in the U.S. versus the U.K. A random sample of 500 people from\n",
    "the U.S. and a random sample of 500 people from the U.K. were surveyed. The results are shown in the\n",
    "contingency table below. Conduct a chi-square test for independence to determine if there is a significant\n",
    "association between chocolate preference and country of origin.\n",
    "Use a significance level of 0.01."
   ]
  },
  {
   "cell_type": "code",
   "execution_count": 1,
   "id": "f207ceec-28d9-46ae-a02a-5eea31fc4355",
   "metadata": {},
   "outputs": [
    {
     "name": "stdout",
     "output_type": "stream",
     "text": [
      "chi-square : 13.393665158371041\n",
      "p-value : 0.0012348168997745918\n",
      "There is a significant association between chocolate preference and country of origin.\n"
     ]
    }
   ],
   "source": [
    "import numpy as np\n",
    "import scipy.stats as stats\n",
    "\n",
    "US_sample_size = 500\n",
    "UK_sample_size = 500\n",
    "\n",
    "observed = np.array([[200, 150, 150], [225, 175, 100]])\n",
    "\n",
    "# sifnificance value\n",
    "alpha = 0.01\n",
    "\n",
    "chi2, p_value, _, _ = stats.chi2_contingency(observed)\n",
    "\n",
    "print(f\"chi-square : {chi2}\")\n",
    "print(\"p-value :\", p_value)\n",
    "\n",
    "if p_value < alpha :\n",
    "    print(\"There is a significant association between chocolate preference and country of origin.\")\n",
    "else:\n",
    "    print(\"There is no significant association between chocolate preference and country of origin.\")\n",
    "    "
   ]
  },
  {
   "cell_type": "code",
   "execution_count": null,
   "id": "7449dfba-6b0e-4f30-868a-823cfdc88b27",
   "metadata": {},
   "outputs": [],
   "source": []
  },
  {
   "cell_type": "raw",
   "id": "63006a05-3dec-4661-9b9e-374d59d72ef2",
   "metadata": {},
   "source": [
    "Q11. A random sample of 30 people was selected from a population with an unknown mean and standard\n",
    "deviation. The sample mean was found to be 72 and the sample standard deviation was found to be 10.\n",
    "Conduct a hypothesis test to determine if the population mean is significantly different from 70. Use a\n",
    "significance level of 0.05."
   ]
  },
  {
   "cell_type": "code",
   "execution_count": 2,
   "id": "598855ee-8fe0-43bf-ba37-26d9be02e225",
   "metadata": {},
   "outputs": [
    {
     "name": "stdout",
     "output_type": "stream",
     "text": [
      "t-statistic: -36.986749606524086\n",
      "p-value: 3.9243107950822604e-48\n",
      "The population mean is significantly different from 70.\n"
     ]
    }
   ],
   "source": [
    "import scipy.stats as stats\n",
    "\n",
    "sample_size = 30\n",
    "std_dev = 10\n",
    "sample_mean = 72\n",
    "population_mean = 70\n",
    "\n",
    "#perform one-sample t-test\n",
    "t_statistic, p_value = stats.ttest_1samp(np.random.normal(sample_size, std_dev, sample_mean), population_mean)\n",
    "\n",
    "print(\"t-statistic:\", t_statistic)\n",
    "print(\"p-value:\", p_value)\n",
    "\n",
    "# significance value\n",
    "alpha = 0.05\n",
    "\n",
    "if p_value < alpha :\n",
    "    print(\"The population mean is significantly different from 70.\")\n",
    "else:\n",
    "    print(\"The population mean is not significantly different from 70.\")"
   ]
  },
  {
   "cell_type": "code",
   "execution_count": null,
   "id": "544800db-3888-4f81-af30-2c79b13fdf67",
   "metadata": {},
   "outputs": [],
   "source": []
  }
 ],
 "metadata": {
  "kernelspec": {
   "display_name": "Python 3 (ipykernel)",
   "language": "python",
   "name": "python3"
  },
  "language_info": {
   "codemirror_mode": {
    "name": "ipython",
    "version": 3
   },
   "file_extension": ".py",
   "mimetype": "text/x-python",
   "name": "python",
   "nbconvert_exporter": "python",
   "pygments_lexer": "ipython3",
   "version": "3.10.8"
  }
 },
 "nbformat": 4,
 "nbformat_minor": 5
}
